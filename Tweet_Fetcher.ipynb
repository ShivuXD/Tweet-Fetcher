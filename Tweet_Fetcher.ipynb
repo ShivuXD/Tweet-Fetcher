{
  "cells": [
    {
      "cell_type": "markdown",
      "metadata": {
        "id": "view-in-github",
        "colab_type": "text"
      },
      "source": [
        "<a href=\"https://colab.research.google.com/github/ShivuXD/Tweet-Fetcher/blob/main/Tweet_Fetcher.ipynb\" target=\"_parent\"><img src=\"https://colab.research.google.com/assets/colab-badge.svg\" alt=\"Open In Colab\"/></a>"
      ]
    },
    {
      "cell_type": "markdown",
      "metadata": {
        "id": "jZWpWnz7Rag1"
      },
      "source": [
        "### **Install the Packages**"
      ]
    },
    {
      "cell_type": "code",
      "execution_count": null,
      "metadata": {
        "id": "BErPuyNcRlzf"
      },
      "outputs": [],
      "source": [
        "!pip install tweepy\n",
        "from getpass import getpass\n",
        "import tweepy\n",
        "import os\n",
        "import tweepy as tw\n",
        "import pandas as pd"
      ]
    },
    {
      "cell_type": "markdown",
      "metadata": {
        "id": "7yOQi89URy5A"
      },
      "source": [
        "## **Add your Bearer Token** ( Never leak/use your Bearer Token in public! )\n",
        "\n"
      ]
    },
    {
      "cell_type": "code",
      "execution_count": null,
      "metadata": {
        "id": "NTcgMbXUTVxv"
      },
      "outputs": [],
      "source": [
        "bearer_token = getpass(\"Enter your Bearer Token: \")\n",
        "\n",
        "client = tweepy.Client(bearer_token=bearer_token)\n",
        "\n",
        "\n",
        "x = input(\"Enter a keyword/hashtag to search for: \")\n",
        "y = int(input(\"How many tweets to fetch ( Must be under 100 )?: \"))\n",
        "\n",
        "\n",
        "response = client.search_recent_tweets(query=x, max_results=y)\n",
        "\n",
        "\n",
        "print(\"\\n✅ Your posts has been fetched successfully!\\n\")\n",
        "for tweet in response.data:\n",
        "    print(tweet.text)\n",
        "    print(\"-\" * 80)"
      ]
    }
  ],
  "metadata": {
    "colab": {
      "provenance": [],
      "authorship_tag": "ABX9TyM+eVOkemxzvJztUsEEypJk",
      "include_colab_link": true
    },
    "kernelspec": {
      "display_name": "Python 3",
      "name": "python3"
    },
    "language_info": {
      "name": "python"
    }
  },
  "nbformat": 4,
  "nbformat_minor": 0
}